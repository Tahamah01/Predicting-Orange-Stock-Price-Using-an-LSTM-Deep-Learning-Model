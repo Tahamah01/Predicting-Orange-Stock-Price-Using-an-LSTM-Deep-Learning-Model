{
  "nbformat": 4,
  "nbformat_minor": 0,
  "metadata": {
    "colab": {
      "provenance": []
    },
    "kernelspec": {
      "name": "python3",
      "display_name": "Python 3"
    },
    "language_info": {
      "name": "python"
    }
  },
  "cells": [
    {
      "cell_type": "code",
      "execution_count": 11,
      "metadata": {
        "id": "ShkbzAzoJWtb"
      },
      "outputs": [],
      "source": [
        "import pandas as pd\n",
        "import numpy as np\n",
        "import matplotlib.pyplot as plt\n",
        "import seaborn as sns\n",
        "from sklearn.preprocessing import MinMaxScaler\n",
        "from tensorflow.keras.losses import MeanSquaredError\n",
        "from tensorflow.keras.metrics import RootMeanSquaredError\n",
        "from tensorflow.keras.models import Sequential\n",
        "from tensorflow.keras.layers import Dense, LSTM, Dropout\n",
        "from tensorflow.keras.callbacks import EarlyStopping\n",
        "from tensorflow.keras.optimizers import Adam\n",
        "import yfinance as yf"
      ]
    },
    {
      "cell_type": "code",
      "source": [
        "org = yf.Ticker('ORA.PA')\n",
        "with open('org.csv', \"w\") as f:\n",
        "  org.history(period=\"max\").to_csv(f)\n",
        "\n",
        "df = pd.read_csv('org.csv')\n",
        "df.head()"
      ],
      "metadata": {
        "colab": {
          "base_uri": "https://localhost:8080/",
          "height": 206
        },
        "id": "OKx9GrV6K0Qq",
        "outputId": "496bc7e4-a693-4de9-d878-e6e8b208785f"
      },
      "execution_count": 2,
      "outputs": [
        {
          "output_type": "execute_result",
          "data": {
            "text/plain": [
              "                        Date       Open       High        Low      Close  \\\n",
              "0  2000-01-03 00:00:00+01:00  32.255717  32.982197  31.601885  31.722965   \n",
              "1  2000-01-04 00:00:00+01:00  31.577658  31.601876  29.301356  30.027836   \n",
              "2  2000-01-05 00:00:00+01:00  28.429598  29.495103  28.308518  28.453814   \n",
              "3  2000-01-06 00:00:00+01:00  28.574891  29.204506  26.903986  28.090570   \n",
              "4  2000-01-07 00:00:00+01:00  27.388306  29.204507  27.243011  28.938131   \n",
              "\n",
              "    Volume  Dividends  Stock Splits  \n",
              "0  1551490        0.0           0.0  \n",
              "1  1988788        0.0           0.0  \n",
              "2  2593952        0.0           0.0  \n",
              "3  2847297        0.0           0.0  \n",
              "4  1593258        0.0           0.0  "
            ],
            "text/html": [
              "\n",
              "  <div id=\"df-4f7828ad-c5b0-4eea-a61f-61aa18108ba0\" class=\"colab-df-container\">\n",
              "    <div>\n",
              "<style scoped>\n",
              "    .dataframe tbody tr th:only-of-type {\n",
              "        vertical-align: middle;\n",
              "    }\n",
              "\n",
              "    .dataframe tbody tr th {\n",
              "        vertical-align: top;\n",
              "    }\n",
              "\n",
              "    .dataframe thead th {\n",
              "        text-align: right;\n",
              "    }\n",
              "</style>\n",
              "<table border=\"1\" class=\"dataframe\">\n",
              "  <thead>\n",
              "    <tr style=\"text-align: right;\">\n",
              "      <th></th>\n",
              "      <th>Date</th>\n",
              "      <th>Open</th>\n",
              "      <th>High</th>\n",
              "      <th>Low</th>\n",
              "      <th>Close</th>\n",
              "      <th>Volume</th>\n",
              "      <th>Dividends</th>\n",
              "      <th>Stock Splits</th>\n",
              "    </tr>\n",
              "  </thead>\n",
              "  <tbody>\n",
              "    <tr>\n",
              "      <th>0</th>\n",
              "      <td>2000-01-03 00:00:00+01:00</td>\n",
              "      <td>32.255717</td>\n",
              "      <td>32.982197</td>\n",
              "      <td>31.601885</td>\n",
              "      <td>31.722965</td>\n",
              "      <td>1551490</td>\n",
              "      <td>0.0</td>\n",
              "      <td>0.0</td>\n",
              "    </tr>\n",
              "    <tr>\n",
              "      <th>1</th>\n",
              "      <td>2000-01-04 00:00:00+01:00</td>\n",
              "      <td>31.577658</td>\n",
              "      <td>31.601876</td>\n",
              "      <td>29.301356</td>\n",
              "      <td>30.027836</td>\n",
              "      <td>1988788</td>\n",
              "      <td>0.0</td>\n",
              "      <td>0.0</td>\n",
              "    </tr>\n",
              "    <tr>\n",
              "      <th>2</th>\n",
              "      <td>2000-01-05 00:00:00+01:00</td>\n",
              "      <td>28.429598</td>\n",
              "      <td>29.495103</td>\n",
              "      <td>28.308518</td>\n",
              "      <td>28.453814</td>\n",
              "      <td>2593952</td>\n",
              "      <td>0.0</td>\n",
              "      <td>0.0</td>\n",
              "    </tr>\n",
              "    <tr>\n",
              "      <th>3</th>\n",
              "      <td>2000-01-06 00:00:00+01:00</td>\n",
              "      <td>28.574891</td>\n",
              "      <td>29.204506</td>\n",
              "      <td>26.903986</td>\n",
              "      <td>28.090570</td>\n",
              "      <td>2847297</td>\n",
              "      <td>0.0</td>\n",
              "      <td>0.0</td>\n",
              "    </tr>\n",
              "    <tr>\n",
              "      <th>4</th>\n",
              "      <td>2000-01-07 00:00:00+01:00</td>\n",
              "      <td>27.388306</td>\n",
              "      <td>29.204507</td>\n",
              "      <td>27.243011</td>\n",
              "      <td>28.938131</td>\n",
              "      <td>1593258</td>\n",
              "      <td>0.0</td>\n",
              "      <td>0.0</td>\n",
              "    </tr>\n",
              "  </tbody>\n",
              "</table>\n",
              "</div>\n",
              "    <div class=\"colab-df-buttons\">\n",
              "\n",
              "  <div class=\"colab-df-container\">\n",
              "    <button class=\"colab-df-convert\" onclick=\"convertToInteractive('df-4f7828ad-c5b0-4eea-a61f-61aa18108ba0')\"\n",
              "            title=\"Convert this dataframe to an interactive table.\"\n",
              "            style=\"display:none;\">\n",
              "\n",
              "  <svg xmlns=\"http://www.w3.org/2000/svg\" height=\"24px\" viewBox=\"0 -960 960 960\">\n",
              "    <path d=\"M120-120v-720h720v720H120Zm60-500h600v-160H180v160Zm220 220h160v-160H400v160Zm0 220h160v-160H400v160ZM180-400h160v-160H180v160Zm440 0h160v-160H620v160ZM180-180h160v-160H180v160Zm440 0h160v-160H620v160Z\"/>\n",
              "  </svg>\n",
              "    </button>\n",
              "\n",
              "  <style>\n",
              "    .colab-df-container {\n",
              "      display:flex;\n",
              "      gap: 12px;\n",
              "    }\n",
              "\n",
              "    .colab-df-convert {\n",
              "      background-color: #E8F0FE;\n",
              "      border: none;\n",
              "      border-radius: 50%;\n",
              "      cursor: pointer;\n",
              "      display: none;\n",
              "      fill: #1967D2;\n",
              "      height: 32px;\n",
              "      padding: 0 0 0 0;\n",
              "      width: 32px;\n",
              "    }\n",
              "\n",
              "    .colab-df-convert:hover {\n",
              "      background-color: #E2EBFA;\n",
              "      box-shadow: 0px 1px 2px rgba(60, 64, 67, 0.3), 0px 1px 3px 1px rgba(60, 64, 67, 0.15);\n",
              "      fill: #174EA6;\n",
              "    }\n",
              "\n",
              "    .colab-df-buttons div {\n",
              "      margin-bottom: 4px;\n",
              "    }\n",
              "\n",
              "    [theme=dark] .colab-df-convert {\n",
              "      background-color: #3B4455;\n",
              "      fill: #D2E3FC;\n",
              "    }\n",
              "\n",
              "    [theme=dark] .colab-df-convert:hover {\n",
              "      background-color: #434B5C;\n",
              "      box-shadow: 0px 1px 3px 1px rgba(0, 0, 0, 0.15);\n",
              "      filter: drop-shadow(0px 1px 2px rgba(0, 0, 0, 0.3));\n",
              "      fill: #FFFFFF;\n",
              "    }\n",
              "  </style>\n",
              "\n",
              "    <script>\n",
              "      const buttonEl =\n",
              "        document.querySelector('#df-4f7828ad-c5b0-4eea-a61f-61aa18108ba0 button.colab-df-convert');\n",
              "      buttonEl.style.display =\n",
              "        google.colab.kernel.accessAllowed ? 'block' : 'none';\n",
              "\n",
              "      async function convertToInteractive(key) {\n",
              "        const element = document.querySelector('#df-4f7828ad-c5b0-4eea-a61f-61aa18108ba0');\n",
              "        const dataTable =\n",
              "          await google.colab.kernel.invokeFunction('convertToInteractive',\n",
              "                                                    [key], {});\n",
              "        if (!dataTable) return;\n",
              "\n",
              "        const docLinkHtml = 'Like what you see? Visit the ' +\n",
              "          '<a target=\"_blank\" href=https://colab.research.google.com/notebooks/data_table.ipynb>data table notebook</a>'\n",
              "          + ' to learn more about interactive tables.';\n",
              "        element.innerHTML = '';\n",
              "        dataTable['output_type'] = 'display_data';\n",
              "        await google.colab.output.renderOutput(dataTable, element);\n",
              "        const docLink = document.createElement('div');\n",
              "        docLink.innerHTML = docLinkHtml;\n",
              "        element.appendChild(docLink);\n",
              "      }\n",
              "    </script>\n",
              "  </div>\n",
              "\n",
              "\n",
              "    <div id=\"df-1dd1aedd-2b3f-4fbf-aabf-74b408517df5\">\n",
              "      <button class=\"colab-df-quickchart\" onclick=\"quickchart('df-1dd1aedd-2b3f-4fbf-aabf-74b408517df5')\"\n",
              "                title=\"Suggest charts\"\n",
              "                style=\"display:none;\">\n",
              "\n",
              "<svg xmlns=\"http://www.w3.org/2000/svg\" height=\"24px\"viewBox=\"0 0 24 24\"\n",
              "     width=\"24px\">\n",
              "    <g>\n",
              "        <path d=\"M19 3H5c-1.1 0-2 .9-2 2v14c0 1.1.9 2 2 2h14c1.1 0 2-.9 2-2V5c0-1.1-.9-2-2-2zM9 17H7v-7h2v7zm4 0h-2V7h2v10zm4 0h-2v-4h2v4z\"/>\n",
              "    </g>\n",
              "</svg>\n",
              "      </button>\n",
              "\n",
              "<style>\n",
              "  .colab-df-quickchart {\n",
              "      --bg-color: #E8F0FE;\n",
              "      --fill-color: #1967D2;\n",
              "      --hover-bg-color: #E2EBFA;\n",
              "      --hover-fill-color: #174EA6;\n",
              "      --disabled-fill-color: #AAA;\n",
              "      --disabled-bg-color: #DDD;\n",
              "  }\n",
              "\n",
              "  [theme=dark] .colab-df-quickchart {\n",
              "      --bg-color: #3B4455;\n",
              "      --fill-color: #D2E3FC;\n",
              "      --hover-bg-color: #434B5C;\n",
              "      --hover-fill-color: #FFFFFF;\n",
              "      --disabled-bg-color: #3B4455;\n",
              "      --disabled-fill-color: #666;\n",
              "  }\n",
              "\n",
              "  .colab-df-quickchart {\n",
              "    background-color: var(--bg-color);\n",
              "    border: none;\n",
              "    border-radius: 50%;\n",
              "    cursor: pointer;\n",
              "    display: none;\n",
              "    fill: var(--fill-color);\n",
              "    height: 32px;\n",
              "    padding: 0;\n",
              "    width: 32px;\n",
              "  }\n",
              "\n",
              "  .colab-df-quickchart:hover {\n",
              "    background-color: var(--hover-bg-color);\n",
              "    box-shadow: 0 1px 2px rgba(60, 64, 67, 0.3), 0 1px 3px 1px rgba(60, 64, 67, 0.15);\n",
              "    fill: var(--button-hover-fill-color);\n",
              "  }\n",
              "\n",
              "  .colab-df-quickchart-complete:disabled,\n",
              "  .colab-df-quickchart-complete:disabled:hover {\n",
              "    background-color: var(--disabled-bg-color);\n",
              "    fill: var(--disabled-fill-color);\n",
              "    box-shadow: none;\n",
              "  }\n",
              "\n",
              "  .colab-df-spinner {\n",
              "    border: 2px solid var(--fill-color);\n",
              "    border-color: transparent;\n",
              "    border-bottom-color: var(--fill-color);\n",
              "    animation:\n",
              "      spin 1s steps(1) infinite;\n",
              "  }\n",
              "\n",
              "  @keyframes spin {\n",
              "    0% {\n",
              "      border-color: transparent;\n",
              "      border-bottom-color: var(--fill-color);\n",
              "      border-left-color: var(--fill-color);\n",
              "    }\n",
              "    20% {\n",
              "      border-color: transparent;\n",
              "      border-left-color: var(--fill-color);\n",
              "      border-top-color: var(--fill-color);\n",
              "    }\n",
              "    30% {\n",
              "      border-color: transparent;\n",
              "      border-left-color: var(--fill-color);\n",
              "      border-top-color: var(--fill-color);\n",
              "      border-right-color: var(--fill-color);\n",
              "    }\n",
              "    40% {\n",
              "      border-color: transparent;\n",
              "      border-right-color: var(--fill-color);\n",
              "      border-top-color: var(--fill-color);\n",
              "    }\n",
              "    60% {\n",
              "      border-color: transparent;\n",
              "      border-right-color: var(--fill-color);\n",
              "    }\n",
              "    80% {\n",
              "      border-color: transparent;\n",
              "      border-right-color: var(--fill-color);\n",
              "      border-bottom-color: var(--fill-color);\n",
              "    }\n",
              "    90% {\n",
              "      border-color: transparent;\n",
              "      border-bottom-color: var(--fill-color);\n",
              "    }\n",
              "  }\n",
              "</style>\n",
              "\n",
              "      <script>\n",
              "        async function quickchart(key) {\n",
              "          const quickchartButtonEl =\n",
              "            document.querySelector('#' + key + ' button');\n",
              "          quickchartButtonEl.disabled = true;  // To prevent multiple clicks.\n",
              "          quickchartButtonEl.classList.add('colab-df-spinner');\n",
              "          try {\n",
              "            const charts = await google.colab.kernel.invokeFunction(\n",
              "                'suggestCharts', [key], {});\n",
              "          } catch (error) {\n",
              "            console.error('Error during call to suggestCharts:', error);\n",
              "          }\n",
              "          quickchartButtonEl.classList.remove('colab-df-spinner');\n",
              "          quickchartButtonEl.classList.add('colab-df-quickchart-complete');\n",
              "        }\n",
              "        (() => {\n",
              "          let quickchartButtonEl =\n",
              "            document.querySelector('#df-1dd1aedd-2b3f-4fbf-aabf-74b408517df5 button');\n",
              "          quickchartButtonEl.style.display =\n",
              "            google.colab.kernel.accessAllowed ? 'block' : 'none';\n",
              "        })();\n",
              "      </script>\n",
              "    </div>\n",
              "\n",
              "    </div>\n",
              "  </div>\n"
            ],
            "application/vnd.google.colaboratory.intrinsic+json": {
              "type": "dataframe",
              "variable_name": "df",
              "summary": "{\n  \"name\": \"df\",\n  \"rows\": 6590,\n  \"fields\": [\n    {\n      \"column\": \"Date\",\n      \"properties\": {\n        \"dtype\": \"object\",\n        \"num_unique_values\": 6590,\n        \"samples\": [\n          \"2007-05-24 00:00:00+02:00\",\n          \"2015-09-10 00:00:00+02:00\",\n          \"2005-07-27 00:00:00+02:00\"\n        ],\n        \"semantic_type\": \"\",\n        \"description\": \"\"\n      }\n    },\n    {\n      \"column\": \"Open\",\n      \"properties\": {\n        \"dtype\": \"number\",\n        \"std\": 5.904712592481265,\n        \"min\": 1.8570610759838388,\n        \"max\": 51.09576391103548,\n        \"num_unique_values\": 6552,\n        \"samples\": [\n          5.323310560568955,\n          4.966921311694692,\n          9.149771028747104\n        ],\n        \"semantic_type\": \"\",\n        \"description\": \"\"\n      }\n    },\n    {\n      \"column\": \"High\",\n      \"properties\": {\n        \"dtype\": \"number\",\n        \"std\": 6.066875507369172,\n        \"min\": 1.9924987631788824,\n        \"max\": 53.033042058037495,\n        \"num_unique_values\": 6550,\n        \"samples\": [\n          5.415637034698391,\n          4.985152881035453,\n          9.12172958810473\n        ],\n        \"semantic_type\": \"\",\n        \"description\": \"\"\n      }\n    },\n    {\n      \"column\": \"Low\",\n      \"properties\": {\n        \"dtype\": \"number\",\n        \"std\": 5.750576359816003,\n        \"min\": 1.7580868992312202,\n        \"max\": 49.64280192647345,\n        \"num_unique_values\": 6540,\n        \"samples\": [\n          6.200294570608448,\n          25.20047645632745,\n          6.134994845423109\n        ],\n        \"semantic_type\": \"\",\n        \"description\": \"\"\n      }\n    },\n    {\n      \"column\": \"Close\",\n      \"properties\": {\n        \"dtype\": \"number\",\n        \"std\": 5.898709327253251,\n        \"min\": 1.8075740337371824,\n        \"max\": 53.03303909301758,\n        \"num_unique_values\": 5560,\n        \"samples\": [\n          2.195655345916748,\n          9.040864944458008,\n          6.5271830558776855\n        ],\n        \"semantic_type\": \"\",\n        \"description\": \"\"\n      }\n    },\n    {\n      \"column\": \"Volume\",\n      \"properties\": {\n        \"dtype\": \"number\",\n        \"std\": 5237668,\n        \"min\": 0,\n        \"max\": 88413661,\n        \"num_unique_values\": 6549,\n        \"samples\": [\n          4593527,\n          3196146,\n          9761890\n        ],\n        \"semantic_type\": \"\",\n        \"description\": \"\"\n      }\n    },\n    {\n      \"column\": \"Dividends\",\n      \"properties\": {\n        \"dtype\": \"number\",\n        \"std\": 0.04703970775574954,\n        \"min\": 0.0,\n        \"max\": 1.3,\n        \"num_unique_values\": 15,\n        \"samples\": [\n          0.2,\n          0.5,\n          0.0\n        ],\n        \"semantic_type\": \"\",\n        \"description\": \"\"\n      }\n    },\n    {\n      \"column\": \"Stock Splits\",\n      \"properties\": {\n        \"dtype\": \"number\",\n        \"std\": 0.0,\n        \"min\": 0.0,\n        \"max\": 0.0,\n        \"num_unique_values\": 1,\n        \"samples\": [\n          0.0\n        ],\n        \"semantic_type\": \"\",\n        \"description\": \"\"\n      }\n    }\n  ]\n}"
            }
          },
          "metadata": {},
          "execution_count": 2
        }
      ]
    },
    {
      "cell_type": "code",
      "source": [
        "df.info()"
      ],
      "metadata": {
        "colab": {
          "base_uri": "https://localhost:8080/",
          "height": 0
        },
        "id": "JGzSJ07YLQ07",
        "outputId": "7986aead-7cbd-4104-834a-24d8f20ef134"
      },
      "execution_count": 3,
      "outputs": [
        {
          "output_type": "stream",
          "name": "stdout",
          "text": [
            "<class 'pandas.core.frame.DataFrame'>\n",
            "RangeIndex: 6590 entries, 0 to 6589\n",
            "Data columns (total 8 columns):\n",
            " #   Column        Non-Null Count  Dtype  \n",
            "---  ------        --------------  -----  \n",
            " 0   Date          6590 non-null   object \n",
            " 1   Open          6590 non-null   float64\n",
            " 2   High          6590 non-null   float64\n",
            " 3   Low           6590 non-null   float64\n",
            " 4   Close         6590 non-null   float64\n",
            " 5   Volume        6590 non-null   int64  \n",
            " 6   Dividends     6590 non-null   float64\n",
            " 7   Stock Splits  6590 non-null   float64\n",
            "dtypes: float64(6), int64(1), object(1)\n",
            "memory usage: 412.0+ KB\n"
          ]
        }
      ]
    },
    {
      "cell_type": "code",
      "source": [
        "close_price = df[\"Close\"]\n",
        "scaler = MinMaxScaler()\n",
        "scaled_price_reshaped = scaler.fit_transform(close_price.values.reshape(-1, 1))"
      ],
      "metadata": {
        "id": "BgxtxW9VNU0g"
      },
      "execution_count": 7,
      "outputs": []
    },
    {
      "cell_type": "code",
      "source": [
        "def create_window(df, lookback_window):\n",
        "  X=[]\n",
        "  y=[]\n",
        "  for i in range(len(df)-lookback_window):\n",
        "    X.append(df[i: i+lookback_window])\n",
        "    y.append(df[i+lookback_window])\n",
        "  return np.array(X), np.array(y)\n",
        "\n",
        "X,y = create_window(scaled_price_reshaped, 60)\n",
        "\n",
        "X.shape, y.shape"
      ],
      "metadata": {
        "colab": {
          "base_uri": "https://localhost:8080/",
          "height": 0
        },
        "id": "6UdgOTt_OGT5",
        "outputId": "76c20888-e624-4b8f-9961-8cb241c80696"
      },
      "execution_count": 9,
      "outputs": [
        {
          "output_type": "execute_result",
          "data": {
            "text/plain": [
              "((6530, 60, 1), (6530, 1))"
            ]
          },
          "metadata": {},
          "execution_count": 9
        }
      ]
    },
    {
      "cell_type": "code",
      "source": [
        "X_train, y_train = X[:6001], y[:6001]\n",
        "X_test, y_test = X[6001:6401], y[6001:6401]\n",
        "X_val, y_val = X[6401:], y[6401:]\n",
        "X_train.shape, y_train.shape, X_test.shape, y_test.shape, X_val.shape, y_val.shape"
      ],
      "metadata": {
        "colab": {
          "base_uri": "https://localhost:8080/",
          "height": 0
        },
        "id": "uEzZCEkdPqnL",
        "outputId": "8fd2cd10-7fe5-4fd7-eef1-23f0b8880f78"
      },
      "execution_count": 10,
      "outputs": [
        {
          "output_type": "execute_result",
          "data": {
            "text/plain": [
              "((6001, 60, 1), (6001, 1), (400, 60, 1), (400, 1), (129, 60, 1), (129, 1))"
            ]
          },
          "metadata": {},
          "execution_count": 10
        }
      ]
    },
    {
      "cell_type": "code",
      "source": [
        "model = Sequential()\n",
        "model.add(LSTM(units=128, return_sequences=True, input_shape=(X_train.shape[1], 1)))\n",
        "model.add(Dropout(0.1))\n",
        "model.add(LSTM(units=64, return_sequences=True))\n",
        "model.add(Dropout(0.1))\n",
        "model.add(LSTM(units=32))\n",
        "model.add(Dropout(0.1))\n",
        "model.add(Dense(units=1))\n",
        "model.summary()"
      ],
      "metadata": {
        "colab": {
          "base_uri": "https://localhost:8080/",
          "height": 429
        },
        "id": "SAmybo_UZ8lO",
        "outputId": "a31358c3-72e1-425b-af6d-debeed4c7d1c"
      },
      "execution_count": 22,
      "outputs": [
        {
          "output_type": "stream",
          "name": "stderr",
          "text": [
            "/usr/local/lib/python3.12/dist-packages/keras/src/layers/rnn/rnn.py:199: UserWarning: Do not pass an `input_shape`/`input_dim` argument to a layer. When using Sequential models, prefer using an `Input(shape)` object as the first layer in the model instead.\n",
            "  super().__init__(**kwargs)\n"
          ]
        },
        {
          "output_type": "display_data",
          "data": {
            "text/plain": [
              "\u001b[1mModel: \"sequential_3\"\u001b[0m\n"
            ],
            "text/html": [
              "<pre style=\"white-space:pre;overflow-x:auto;line-height:normal;font-family:Menlo,'DejaVu Sans Mono',consolas,'Courier New',monospace\"><span style=\"font-weight: bold\">Model: \"sequential_3\"</span>\n",
              "</pre>\n"
            ]
          },
          "metadata": {}
        },
        {
          "output_type": "display_data",
          "data": {
            "text/plain": [
              "┏━━━━━━━━━━━━━━━━━━━━━━━━━━━━━━━━━┳━━━━━━━━━━━━━━━━━━━━━━━━┳━━━━━━━━━━━━━━━┓\n",
              "┃\u001b[1m \u001b[0m\u001b[1mLayer (type)                   \u001b[0m\u001b[1m \u001b[0m┃\u001b[1m \u001b[0m\u001b[1mOutput Shape          \u001b[0m\u001b[1m \u001b[0m┃\u001b[1m \u001b[0m\u001b[1m      Param #\u001b[0m\u001b[1m \u001b[0m┃\n",
              "┡━━━━━━━━━━━━━━━━━━━━━━━━━━━━━━━━━╇━━━━━━━━━━━━━━━━━━━━━━━━╇━━━━━━━━━━━━━━━┩\n",
              "│ lstm_7 (\u001b[38;5;33mLSTM\u001b[0m)                   │ (\u001b[38;5;45mNone\u001b[0m, \u001b[38;5;34m60\u001b[0m, \u001b[38;5;34m128\u001b[0m)        │        \u001b[38;5;34m66,560\u001b[0m │\n",
              "├─────────────────────────────────┼────────────────────────┼───────────────┤\n",
              "│ dropout_5 (\u001b[38;5;33mDropout\u001b[0m)             │ (\u001b[38;5;45mNone\u001b[0m, \u001b[38;5;34m60\u001b[0m, \u001b[38;5;34m128\u001b[0m)        │             \u001b[38;5;34m0\u001b[0m │\n",
              "├─────────────────────────────────┼────────────────────────┼───────────────┤\n",
              "│ lstm_8 (\u001b[38;5;33mLSTM\u001b[0m)                   │ (\u001b[38;5;45mNone\u001b[0m, \u001b[38;5;34m60\u001b[0m, \u001b[38;5;34m64\u001b[0m)         │        \u001b[38;5;34m49,408\u001b[0m │\n",
              "├─────────────────────────────────┼────────────────────────┼───────────────┤\n",
              "│ dropout_6 (\u001b[38;5;33mDropout\u001b[0m)             │ (\u001b[38;5;45mNone\u001b[0m, \u001b[38;5;34m60\u001b[0m, \u001b[38;5;34m64\u001b[0m)         │             \u001b[38;5;34m0\u001b[0m │\n",
              "├─────────────────────────────────┼────────────────────────┼───────────────┤\n",
              "│ lstm_9 (\u001b[38;5;33mLSTM\u001b[0m)                   │ (\u001b[38;5;45mNone\u001b[0m, \u001b[38;5;34m32\u001b[0m)             │        \u001b[38;5;34m12,416\u001b[0m │\n",
              "├─────────────────────────────────┼────────────────────────┼───────────────┤\n",
              "│ dropout_7 (\u001b[38;5;33mDropout\u001b[0m)             │ (\u001b[38;5;45mNone\u001b[0m, \u001b[38;5;34m32\u001b[0m)             │             \u001b[38;5;34m0\u001b[0m │\n",
              "├─────────────────────────────────┼────────────────────────┼───────────────┤\n",
              "│ dense_1 (\u001b[38;5;33mDense\u001b[0m)                 │ (\u001b[38;5;45mNone\u001b[0m, \u001b[38;5;34m1\u001b[0m)              │            \u001b[38;5;34m33\u001b[0m │\n",
              "└─────────────────────────────────┴────────────────────────┴───────────────┘\n"
            ],
            "text/html": [
              "<pre style=\"white-space:pre;overflow-x:auto;line-height:normal;font-family:Menlo,'DejaVu Sans Mono',consolas,'Courier New',monospace\">┏━━━━━━━━━━━━━━━━━━━━━━━━━━━━━━━━━┳━━━━━━━━━━━━━━━━━━━━━━━━┳━━━━━━━━━━━━━━━┓\n",
              "┃<span style=\"font-weight: bold\"> Layer (type)                    </span>┃<span style=\"font-weight: bold\"> Output Shape           </span>┃<span style=\"font-weight: bold\">       Param # </span>┃\n",
              "┡━━━━━━━━━━━━━━━━━━━━━━━━━━━━━━━━━╇━━━━━━━━━━━━━━━━━━━━━━━━╇━━━━━━━━━━━━━━━┩\n",
              "│ lstm_7 (<span style=\"color: #0087ff; text-decoration-color: #0087ff\">LSTM</span>)                   │ (<span style=\"color: #00d7ff; text-decoration-color: #00d7ff\">None</span>, <span style=\"color: #00af00; text-decoration-color: #00af00\">60</span>, <span style=\"color: #00af00; text-decoration-color: #00af00\">128</span>)        │        <span style=\"color: #00af00; text-decoration-color: #00af00\">66,560</span> │\n",
              "├─────────────────────────────────┼────────────────────────┼───────────────┤\n",
              "│ dropout_5 (<span style=\"color: #0087ff; text-decoration-color: #0087ff\">Dropout</span>)             │ (<span style=\"color: #00d7ff; text-decoration-color: #00d7ff\">None</span>, <span style=\"color: #00af00; text-decoration-color: #00af00\">60</span>, <span style=\"color: #00af00; text-decoration-color: #00af00\">128</span>)        │             <span style=\"color: #00af00; text-decoration-color: #00af00\">0</span> │\n",
              "├─────────────────────────────────┼────────────────────────┼───────────────┤\n",
              "│ lstm_8 (<span style=\"color: #0087ff; text-decoration-color: #0087ff\">LSTM</span>)                   │ (<span style=\"color: #00d7ff; text-decoration-color: #00d7ff\">None</span>, <span style=\"color: #00af00; text-decoration-color: #00af00\">60</span>, <span style=\"color: #00af00; text-decoration-color: #00af00\">64</span>)         │        <span style=\"color: #00af00; text-decoration-color: #00af00\">49,408</span> │\n",
              "├─────────────────────────────────┼────────────────────────┼───────────────┤\n",
              "│ dropout_6 (<span style=\"color: #0087ff; text-decoration-color: #0087ff\">Dropout</span>)             │ (<span style=\"color: #00d7ff; text-decoration-color: #00d7ff\">None</span>, <span style=\"color: #00af00; text-decoration-color: #00af00\">60</span>, <span style=\"color: #00af00; text-decoration-color: #00af00\">64</span>)         │             <span style=\"color: #00af00; text-decoration-color: #00af00\">0</span> │\n",
              "├─────────────────────────────────┼────────────────────────┼───────────────┤\n",
              "│ lstm_9 (<span style=\"color: #0087ff; text-decoration-color: #0087ff\">LSTM</span>)                   │ (<span style=\"color: #00d7ff; text-decoration-color: #00d7ff\">None</span>, <span style=\"color: #00af00; text-decoration-color: #00af00\">32</span>)             │        <span style=\"color: #00af00; text-decoration-color: #00af00\">12,416</span> │\n",
              "├─────────────────────────────────┼────────────────────────┼───────────────┤\n",
              "│ dropout_7 (<span style=\"color: #0087ff; text-decoration-color: #0087ff\">Dropout</span>)             │ (<span style=\"color: #00d7ff; text-decoration-color: #00d7ff\">None</span>, <span style=\"color: #00af00; text-decoration-color: #00af00\">32</span>)             │             <span style=\"color: #00af00; text-decoration-color: #00af00\">0</span> │\n",
              "├─────────────────────────────────┼────────────────────────┼───────────────┤\n",
              "│ dense_1 (<span style=\"color: #0087ff; text-decoration-color: #0087ff\">Dense</span>)                 │ (<span style=\"color: #00d7ff; text-decoration-color: #00d7ff\">None</span>, <span style=\"color: #00af00; text-decoration-color: #00af00\">1</span>)              │            <span style=\"color: #00af00; text-decoration-color: #00af00\">33</span> │\n",
              "└─────────────────────────────────┴────────────────────────┴───────────────┘\n",
              "</pre>\n"
            ]
          },
          "metadata": {}
        },
        {
          "output_type": "display_data",
          "data": {
            "text/plain": [
              "\u001b[1m Total params: \u001b[0m\u001b[38;5;34m128,417\u001b[0m (501.63 KB)\n"
            ],
            "text/html": [
              "<pre style=\"white-space:pre;overflow-x:auto;line-height:normal;font-family:Menlo,'DejaVu Sans Mono',consolas,'Courier New',monospace\"><span style=\"font-weight: bold\"> Total params: </span><span style=\"color: #00af00; text-decoration-color: #00af00\">128,417</span> (501.63 KB)\n",
              "</pre>\n"
            ]
          },
          "metadata": {}
        },
        {
          "output_type": "display_data",
          "data": {
            "text/plain": [
              "\u001b[1m Trainable params: \u001b[0m\u001b[38;5;34m128,417\u001b[0m (501.63 KB)\n"
            ],
            "text/html": [
              "<pre style=\"white-space:pre;overflow-x:auto;line-height:normal;font-family:Menlo,'DejaVu Sans Mono',consolas,'Courier New',monospace\"><span style=\"font-weight: bold\"> Trainable params: </span><span style=\"color: #00af00; text-decoration-color: #00af00\">128,417</span> (501.63 KB)\n",
              "</pre>\n"
            ]
          },
          "metadata": {}
        },
        {
          "output_type": "display_data",
          "data": {
            "text/plain": [
              "\u001b[1m Non-trainable params: \u001b[0m\u001b[38;5;34m0\u001b[0m (0.00 B)\n"
            ],
            "text/html": [
              "<pre style=\"white-space:pre;overflow-x:auto;line-height:normal;font-family:Menlo,'DejaVu Sans Mono',consolas,'Courier New',monospace\"><span style=\"font-weight: bold\"> Non-trainable params: </span><span style=\"color: #00af00; text-decoration-color: #00af00\">0</span> (0.00 B)\n",
              "</pre>\n"
            ]
          },
          "metadata": {}
        }
      ]
    },
    {
      "cell_type": "code",
      "source": [
        "model.compile(optimizer=Adam(learning_rate=0.001), loss=MeanSquaredError(), metrics=[RootMeanSquaredError()])\n",
        "early_stopping = EarlyStopping(monitor='val_loss', patience=15, restore_best_weights=True)"
      ],
      "metadata": {
        "id": "sSGR87pQRvKS"
      },
      "execution_count": 23,
      "outputs": []
    },
    {
      "cell_type": "code",
      "source": [
        "model.fit(X_train, y_train, epochs=50, batch_size=32, validation_data=(X_test, y_test), callbacks=[early_stopping])"
      ],
      "metadata": {
        "colab": {
          "base_uri": "https://localhost:8080/",
          "height": 0
        },
        "id": "5Hd8RFgxaN4H",
        "outputId": "4c8078b5-f51f-4c5f-b321-87ef78c635ac"
      },
      "execution_count": 24,
      "outputs": [
        {
          "output_type": "stream",
          "name": "stdout",
          "text": [
            "Epoch 1/50\n",
            "\u001b[1m188/188\u001b[0m \u001b[32m━━━━━━━━━━━━━━━━━━━━\u001b[0m\u001b[37m\u001b[0m \u001b[1m41s\u001b[0m 180ms/step - loss: 0.0025 - root_mean_squared_error: 0.0449 - val_loss: 8.9124e-05 - val_root_mean_squared_error: 0.0094\n",
            "Epoch 2/50\n",
            "\u001b[1m188/188\u001b[0m \u001b[32m━━━━━━━━━━━━━━━━━━━━\u001b[0m\u001b[37m\u001b[0m \u001b[1m41s\u001b[0m 181ms/step - loss: 3.4543e-04 - root_mean_squared_error: 0.0186 - val_loss: 4.1835e-05 - val_root_mean_squared_error: 0.0065\n",
            "Epoch 3/50\n",
            "\u001b[1m188/188\u001b[0m \u001b[32m━━━━━━━━━━━━━━━━━━━━\u001b[0m\u001b[37m\u001b[0m \u001b[1m35s\u001b[0m 185ms/step - loss: 3.4612e-04 - root_mean_squared_error: 0.0186 - val_loss: 2.7666e-05 - val_root_mean_squared_error: 0.0053\n",
            "Epoch 4/50\n",
            "\u001b[1m188/188\u001b[0m \u001b[32m━━━━━━━━━━━━━━━━━━━━\u001b[0m\u001b[37m\u001b[0m \u001b[1m41s\u001b[0m 185ms/step - loss: 3.4271e-04 - root_mean_squared_error: 0.0184 - val_loss: 1.4670e-04 - val_root_mean_squared_error: 0.0121\n",
            "Epoch 5/50\n",
            "\u001b[1m188/188\u001b[0m \u001b[32m━━━━━━━━━━━━━━━━━━━━\u001b[0m\u001b[37m\u001b[0m \u001b[1m41s\u001b[0m 185ms/step - loss: 3.2537e-04 - root_mean_squared_error: 0.0180 - val_loss: 2.3455e-05 - val_root_mean_squared_error: 0.0048\n",
            "Epoch 6/50\n",
            "\u001b[1m188/188\u001b[0m \u001b[32m━━━━━━━━━━━━━━━━━━━━\u001b[0m\u001b[37m\u001b[0m \u001b[1m33s\u001b[0m 177ms/step - loss: 2.5199e-04 - root_mean_squared_error: 0.0158 - val_loss: 1.8092e-05 - val_root_mean_squared_error: 0.0043\n",
            "Epoch 7/50\n",
            "\u001b[1m188/188\u001b[0m \u001b[32m━━━━━━━━━━━━━━━━━━━━\u001b[0m\u001b[37m\u001b[0m \u001b[1m41s\u001b[0m 175ms/step - loss: 1.8467e-04 - root_mean_squared_error: 0.0136 - val_loss: 8.6849e-05 - val_root_mean_squared_error: 0.0093\n",
            "Epoch 8/50\n",
            "\u001b[1m188/188\u001b[0m \u001b[32m━━━━━━━━━━━━━━━━━━━━\u001b[0m\u001b[37m\u001b[0m \u001b[1m42s\u001b[0m 179ms/step - loss: 2.7719e-04 - root_mean_squared_error: 0.0166 - val_loss: 1.9099e-05 - val_root_mean_squared_error: 0.0044\n",
            "Epoch 9/50\n",
            "\u001b[1m188/188\u001b[0m \u001b[32m━━━━━━━━━━━━━━━━━━━━\u001b[0m\u001b[37m\u001b[0m \u001b[1m42s\u001b[0m 183ms/step - loss: 2.2634e-04 - root_mean_squared_error: 0.0150 - val_loss: 2.0264e-05 - val_root_mean_squared_error: 0.0045\n",
            "Epoch 10/50\n",
            "\u001b[1m188/188\u001b[0m \u001b[32m━━━━━━━━━━━━━━━━━━━━\u001b[0m\u001b[37m\u001b[0m \u001b[1m41s\u001b[0m 183ms/step - loss: 1.9572e-04 - root_mean_squared_error: 0.0140 - val_loss: 7.1637e-05 - val_root_mean_squared_error: 0.0085\n",
            "Epoch 11/50\n",
            "\u001b[1m188/188\u001b[0m \u001b[32m━━━━━━━━━━━━━━━━━━━━\u001b[0m\u001b[37m\u001b[0m \u001b[1m33s\u001b[0m 176ms/step - loss: 1.8132e-04 - root_mean_squared_error: 0.0134 - val_loss: 3.9351e-05 - val_root_mean_squared_error: 0.0063\n",
            "Epoch 12/50\n",
            "\u001b[1m188/188\u001b[0m \u001b[32m━━━━━━━━━━━━━━━━━━━━\u001b[0m\u001b[37m\u001b[0m \u001b[1m41s\u001b[0m 176ms/step - loss: 1.9722e-04 - root_mean_squared_error: 0.0140 - val_loss: 7.2930e-05 - val_root_mean_squared_error: 0.0085\n",
            "Epoch 13/50\n",
            "\u001b[1m188/188\u001b[0m \u001b[32m━━━━━━━━━━━━━━━━━━━━\u001b[0m\u001b[37m\u001b[0m \u001b[1m35s\u001b[0m 185ms/step - loss: 1.8323e-04 - root_mean_squared_error: 0.0135 - val_loss: 1.5903e-05 - val_root_mean_squared_error: 0.0040\n",
            "Epoch 14/50\n",
            "\u001b[1m188/188\u001b[0m \u001b[32m━━━━━━━━━━━━━━━━━━━━\u001b[0m\u001b[37m\u001b[0m \u001b[1m33s\u001b[0m 176ms/step - loss: 1.9683e-04 - root_mean_squared_error: 0.0140 - val_loss: 1.0550e-05 - val_root_mean_squared_error: 0.0032\n",
            "Epoch 15/50\n",
            "\u001b[1m188/188\u001b[0m \u001b[32m━━━━━━━━━━━━━━━━━━━━\u001b[0m\u001b[37m\u001b[0m \u001b[1m35s\u001b[0m 187ms/step - loss: 1.8749e-04 - root_mean_squared_error: 0.0137 - val_loss: 1.0551e-05 - val_root_mean_squared_error: 0.0032\n",
            "Epoch 16/50\n",
            "\u001b[1m188/188\u001b[0m \u001b[32m━━━━━━━━━━━━━━━━━━━━\u001b[0m\u001b[37m\u001b[0m \u001b[1m33s\u001b[0m 176ms/step - loss: 2.1154e-04 - root_mean_squared_error: 0.0144 - val_loss: 5.7792e-05 - val_root_mean_squared_error: 0.0076\n",
            "Epoch 17/50\n",
            "\u001b[1m188/188\u001b[0m \u001b[32m━━━━━━━━━━━━━━━━━━━━\u001b[0m\u001b[37m\u001b[0m \u001b[1m41s\u001b[0m 178ms/step - loss: 1.6591e-04 - root_mean_squared_error: 0.0128 - val_loss: 1.1147e-05 - val_root_mean_squared_error: 0.0033\n",
            "Epoch 18/50\n",
            "\u001b[1m188/188\u001b[0m \u001b[32m━━━━━━━━━━━━━━━━━━━━\u001b[0m\u001b[37m\u001b[0m \u001b[1m41s\u001b[0m 178ms/step - loss: 1.4983e-04 - root_mean_squared_error: 0.0122 - val_loss: 9.9261e-06 - val_root_mean_squared_error: 0.0032\n",
            "Epoch 19/50\n",
            "\u001b[1m188/188\u001b[0m \u001b[32m━━━━━━━━━━━━━━━━━━━━\u001b[0m\u001b[37m\u001b[0m \u001b[1m41s\u001b[0m 177ms/step - loss: 2.4931e-04 - root_mean_squared_error: 0.0157 - val_loss: 1.3926e-05 - val_root_mean_squared_error: 0.0037\n",
            "Epoch 20/50\n",
            "\u001b[1m188/188\u001b[0m \u001b[32m━━━━━━━━━━━━━━━━━━━━\u001b[0m\u001b[37m\u001b[0m \u001b[1m42s\u001b[0m 184ms/step - loss: 1.8140e-04 - root_mean_squared_error: 0.0135 - val_loss: 1.4279e-05 - val_root_mean_squared_error: 0.0038\n",
            "Epoch 21/50\n",
            "\u001b[1m188/188\u001b[0m \u001b[32m━━━━━━━━━━━━━━━━━━━━\u001b[0m\u001b[37m\u001b[0m \u001b[1m34s\u001b[0m 179ms/step - loss: 1.4748e-04 - root_mean_squared_error: 0.0121 - val_loss: 7.2612e-06 - val_root_mean_squared_error: 0.0027\n",
            "Epoch 22/50\n",
            "\u001b[1m188/188\u001b[0m \u001b[32m━━━━━━━━━━━━━━━━━━━━\u001b[0m\u001b[37m\u001b[0m \u001b[1m40s\u001b[0m 176ms/step - loss: 1.4814e-04 - root_mean_squared_error: 0.0121 - val_loss: 1.7491e-05 - val_root_mean_squared_error: 0.0042\n",
            "Epoch 23/50\n",
            "\u001b[1m188/188\u001b[0m \u001b[32m━━━━━━━━━━━━━━━━━━━━\u001b[0m\u001b[37m\u001b[0m \u001b[1m41s\u001b[0m 175ms/step - loss: 1.1214e-04 - root_mean_squared_error: 0.0106 - val_loss: 1.3547e-05 - val_root_mean_squared_error: 0.0037\n",
            "Epoch 24/50\n",
            "\u001b[1m188/188\u001b[0m \u001b[32m━━━━━━━━━━━━━━━━━━━━\u001b[0m\u001b[37m\u001b[0m \u001b[1m41s\u001b[0m 176ms/step - loss: 1.2297e-04 - root_mean_squared_error: 0.0111 - val_loss: 1.4836e-05 - val_root_mean_squared_error: 0.0039\n",
            "Epoch 25/50\n",
            "\u001b[1m188/188\u001b[0m \u001b[32m━━━━━━━━━━━━━━━━━━━━\u001b[0m\u001b[37m\u001b[0m \u001b[1m35s\u001b[0m 184ms/step - loss: 1.1353e-04 - root_mean_squared_error: 0.0106 - val_loss: 5.8852e-06 - val_root_mean_squared_error: 0.0024\n",
            "Epoch 26/50\n",
            "\u001b[1m188/188\u001b[0m \u001b[32m━━━━━━━━━━━━━━━━━━━━\u001b[0m\u001b[37m\u001b[0m \u001b[1m41s\u001b[0m 184ms/step - loss: 1.4651e-04 - root_mean_squared_error: 0.0120 - val_loss: 7.0636e-06 - val_root_mean_squared_error: 0.0027\n",
            "Epoch 27/50\n",
            "\u001b[1m188/188\u001b[0m \u001b[32m━━━━━━━━━━━━━━━━━━━━\u001b[0m\u001b[37m\u001b[0m \u001b[1m33s\u001b[0m 176ms/step - loss: 1.7794e-04 - root_mean_squared_error: 0.0133 - val_loss: 4.5987e-05 - val_root_mean_squared_error: 0.0068\n",
            "Epoch 28/50\n",
            "\u001b[1m188/188\u001b[0m \u001b[32m━━━━━━━━━━━━━━━━━━━━\u001b[0m\u001b[37m\u001b[0m \u001b[1m35s\u001b[0m 185ms/step - loss: 1.3939e-04 - root_mean_squared_error: 0.0118 - val_loss: 1.0822e-05 - val_root_mean_squared_error: 0.0033\n",
            "Epoch 29/50\n",
            "\u001b[1m188/188\u001b[0m \u001b[32m━━━━━━━━━━━━━━━━━━━━\u001b[0m\u001b[37m\u001b[0m \u001b[1m33s\u001b[0m 176ms/step - loss: 1.0661e-04 - root_mean_squared_error: 0.0103 - val_loss: 2.3571e-05 - val_root_mean_squared_error: 0.0049\n",
            "Epoch 30/50\n",
            "\u001b[1m188/188\u001b[0m \u001b[32m━━━━━━━━━━━━━━━━━━━━\u001b[0m\u001b[37m\u001b[0m \u001b[1m35s\u001b[0m 184ms/step - loss: 1.7201e-04 - root_mean_squared_error: 0.0131 - val_loss: 1.7230e-05 - val_root_mean_squared_error: 0.0042\n",
            "Epoch 31/50\n",
            "\u001b[1m188/188\u001b[0m \u001b[32m━━━━━━━━━━━━━━━━━━━━\u001b[0m\u001b[37m\u001b[0m \u001b[1m33s\u001b[0m 176ms/step - loss: 1.3765e-04 - root_mean_squared_error: 0.0117 - val_loss: 1.0866e-05 - val_root_mean_squared_error: 0.0033\n",
            "Epoch 32/50\n",
            "\u001b[1m188/188\u001b[0m \u001b[32m━━━━━━━━━━━━━━━━━━━━\u001b[0m\u001b[37m\u001b[0m \u001b[1m41s\u001b[0m 177ms/step - loss: 1.1778e-04 - root_mean_squared_error: 0.0108 - val_loss: 4.7391e-06 - val_root_mean_squared_error: 0.0022\n",
            "Epoch 33/50\n",
            "\u001b[1m188/188\u001b[0m \u001b[32m━━━━━━━━━━━━━━━━━━━━\u001b[0m\u001b[37m\u001b[0m \u001b[1m35s\u001b[0m 185ms/step - loss: 1.1817e-04 - root_mean_squared_error: 0.0108 - val_loss: 4.5494e-06 - val_root_mean_squared_error: 0.0021\n",
            "Epoch 34/50\n",
            "\u001b[1m188/188\u001b[0m \u001b[32m━━━━━━━━━━━━━━━━━━━━\u001b[0m\u001b[37m\u001b[0m \u001b[1m41s\u001b[0m 185ms/step - loss: 1.1769e-04 - root_mean_squared_error: 0.0108 - val_loss: 1.9439e-05 - val_root_mean_squared_error: 0.0044\n",
            "Epoch 35/50\n",
            "\u001b[1m188/188\u001b[0m \u001b[32m━━━━━━━━━━━━━━━━━━━━\u001b[0m\u001b[37m\u001b[0m \u001b[1m41s\u001b[0m 184ms/step - loss: 9.4127e-05 - root_mean_squared_error: 0.0097 - val_loss: 6.2206e-06 - val_root_mean_squared_error: 0.0025\n",
            "Epoch 36/50\n",
            "\u001b[1m188/188\u001b[0m \u001b[32m━━━━━━━━━━━━━━━━━━━━\u001b[0m\u001b[37m\u001b[0m \u001b[1m41s\u001b[0m 185ms/step - loss: 1.2188e-04 - root_mean_squared_error: 0.0110 - val_loss: 4.4835e-06 - val_root_mean_squared_error: 0.0021\n",
            "Epoch 37/50\n",
            "\u001b[1m188/188\u001b[0m \u001b[32m━━━━━━━━━━━━━━━━━━━━\u001b[0m\u001b[37m\u001b[0m \u001b[1m41s\u001b[0m 186ms/step - loss: 1.6523e-04 - root_mean_squared_error: 0.0128 - val_loss: 4.6978e-06 - val_root_mean_squared_error: 0.0022\n",
            "Epoch 38/50\n",
            "\u001b[1m188/188\u001b[0m \u001b[32m━━━━━━━━━━━━━━━━━━━━\u001b[0m\u001b[37m\u001b[0m \u001b[1m41s\u001b[0m 185ms/step - loss: 1.3059e-04 - root_mean_squared_error: 0.0113 - val_loss: 8.6671e-06 - val_root_mean_squared_error: 0.0029\n",
            "Epoch 39/50\n",
            "\u001b[1m188/188\u001b[0m \u001b[32m━━━━━━━━━━━━━━━━━━━━\u001b[0m\u001b[37m\u001b[0m \u001b[1m41s\u001b[0m 184ms/step - loss: 1.0793e-04 - root_mean_squared_error: 0.0103 - val_loss: 4.4433e-06 - val_root_mean_squared_error: 0.0021\n",
            "Epoch 40/50\n",
            "\u001b[1m188/188\u001b[0m \u001b[32m━━━━━━━━━━━━━━━━━━━━\u001b[0m\u001b[37m\u001b[0m \u001b[1m33s\u001b[0m 177ms/step - loss: 8.6624e-05 - root_mean_squared_error: 0.0092 - val_loss: 6.7665e-06 - val_root_mean_squared_error: 0.0026\n",
            "Epoch 41/50\n",
            "\u001b[1m188/188\u001b[0m \u001b[32m━━━━━━━━━━━━━━━━━━━━\u001b[0m\u001b[37m\u001b[0m \u001b[1m35s\u001b[0m 184ms/step - loss: 1.4417e-04 - root_mean_squared_error: 0.0120 - val_loss: 4.1794e-06 - val_root_mean_squared_error: 0.0020\n",
            "Epoch 42/50\n",
            "\u001b[1m188/188\u001b[0m \u001b[32m━━━━━━━━━━━━━━━━━━━━\u001b[0m\u001b[37m\u001b[0m \u001b[1m41s\u001b[0m 185ms/step - loss: 1.1189e-04 - root_mean_squared_error: 0.0105 - val_loss: 2.1432e-05 - val_root_mean_squared_error: 0.0046\n",
            "Epoch 43/50\n",
            "\u001b[1m188/188\u001b[0m \u001b[32m━━━━━━━━━━━━━━━━━━━━\u001b[0m\u001b[37m\u001b[0m \u001b[1m33s\u001b[0m 175ms/step - loss: 1.1754e-04 - root_mean_squared_error: 0.0108 - val_loss: 7.8326e-06 - val_root_mean_squared_error: 0.0028\n",
            "Epoch 44/50\n",
            "\u001b[1m188/188\u001b[0m \u001b[32m━━━━━━━━━━━━━━━━━━━━\u001b[0m\u001b[37m\u001b[0m \u001b[1m41s\u001b[0m 176ms/step - loss: 1.1194e-04 - root_mean_squared_error: 0.0105 - val_loss: 1.0295e-05 - val_root_mean_squared_error: 0.0032\n",
            "Epoch 45/50\n",
            "\u001b[1m188/188\u001b[0m \u001b[32m━━━━━━━━━━━━━━━━━━━━\u001b[0m\u001b[37m\u001b[0m \u001b[1m36s\u001b[0m 190ms/step - loss: 1.8446e-04 - root_mean_squared_error: 0.0136 - val_loss: 9.0726e-06 - val_root_mean_squared_error: 0.0030\n",
            "Epoch 46/50\n",
            "\u001b[1m188/188\u001b[0m \u001b[32m━━━━━━━━━━━━━━━━━━━━\u001b[0m\u001b[37m\u001b[0m \u001b[1m33s\u001b[0m 178ms/step - loss: 1.5304e-04 - root_mean_squared_error: 0.0123 - val_loss: 3.9814e-06 - val_root_mean_squared_error: 0.0020\n",
            "Epoch 47/50\n",
            "\u001b[1m188/188\u001b[0m \u001b[32m━━━━━━━━━━━━━━━━━━━━\u001b[0m\u001b[37m\u001b[0m \u001b[1m35s\u001b[0m 186ms/step - loss: 8.5360e-05 - root_mean_squared_error: 0.0092 - val_loss: 4.4204e-06 - val_root_mean_squared_error: 0.0021\n",
            "Epoch 48/50\n",
            "\u001b[1m188/188\u001b[0m \u001b[32m━━━━━━━━━━━━━━━━━━━━\u001b[0m\u001b[37m\u001b[0m \u001b[1m41s\u001b[0m 186ms/step - loss: 1.0033e-04 - root_mean_squared_error: 0.0100 - val_loss: 4.7235e-05 - val_root_mean_squared_error: 0.0069\n",
            "Epoch 49/50\n",
            "\u001b[1m188/188\u001b[0m \u001b[32m━━━━━━━━━━━━━━━━━━━━\u001b[0m\u001b[37m\u001b[0m \u001b[1m41s\u001b[0m 186ms/step - loss: 1.2981e-04 - root_mean_squared_error: 0.0113 - val_loss: 1.1717e-05 - val_root_mean_squared_error: 0.0034\n",
            "Epoch 50/50\n",
            "\u001b[1m188/188\u001b[0m \u001b[32m━━━━━━━━━━━━━━━━━━━━\u001b[0m\u001b[37m\u001b[0m \u001b[1m41s\u001b[0m 185ms/step - loss: 1.6454e-04 - root_mean_squared_error: 0.0127 - val_loss: 2.9013e-05 - val_root_mean_squared_error: 0.0054\n"
          ]
        },
        {
          "output_type": "execute_result",
          "data": {
            "text/plain": [
              "<keras.src.callbacks.history.History at 0x79668c16e8a0>"
            ]
          },
          "metadata": {},
          "execution_count": 24
        }
      ]
    },
    {
      "cell_type": "code",
      "source": [
        "predicted = model.predict(X_val)\n",
        "predicted = scaler.inverse_transform(predicted)\n",
        "actual_price = scaler.inverse_transform(y_val.reshape(-1,1))\n",
        "\n",
        "mse_score = MeanSquaredError()(actual_price, predicted).numpy()\n",
        "rmse_score = RootMeanSquaredError()(actual_price, predicted).numpy()\n",
        "\n",
        "print(f\"MSE: {mse_score}\")\n",
        "print(f\"RMSE: {rmse_score}\")"
      ],
      "metadata": {
        "colab": {
          "base_uri": "https://localhost:8080/",
          "height": 0
        },
        "id": "uuW4KWJohj4O",
        "outputId": "5640c29b-0ed5-4030-80d1-da3ef7410940"
      },
      "execution_count": 25,
      "outputs": [
        {
          "output_type": "stream",
          "name": "stdout",
          "text": [
            "\u001b[1m5/5\u001b[0m \u001b[32m━━━━━━━━━━━━━━━━━━━━\u001b[0m\u001b[37m\u001b[0m \u001b[1m2s\u001b[0m 282ms/step\n",
            "MSE: 0.06792736798524857\n",
            "RMSE: 0.2606287896633148\n"
          ]
        }
      ]
    },
    {
      "cell_type": "code",
      "source": [
        "num_of_days_in_6_months = 6*21\n",
        "if num_of_days_in_6_months > len(y_val):\n",
        "  num_of_days_in_6_months = len(y_val)\n",
        "\n",
        "plt.figure(figsize=(18,6))\n",
        "plt.plot(actual_price[-num_of_days_in_6_months:], label='Actual Prices')\n",
        "plt.plot(predicted[-num_of_days_in_6_months:], label='Predicted Prices')\n",
        "plt.legend()\n",
        "plt.title('Actual vs Predicted Prices of Orange Stock Price')\n",
        "plt.show()"
      ],
      "metadata": {
        "colab": {
          "base_uri": "https://localhost:8080/",
          "height": 495
        },
        "id": "cPHbDy7fYeyV",
        "outputId": "e2c2bafe-dd98-4f5a-e012-f679c02edbb5"
      },
      "execution_count": 26,
      "outputs": [
        {
          "output_type": "display_data",
          "data": {
            "text/plain": [
              "<Figure size 1800x600 with 1 Axes>"
            ],
            "image/png": "[encoded data removed]"
          },
          "metadata": {}
        }
      ]
    },
    {
      "cell_type": "code",
      "source": [],
      "metadata": {
        "id": "3HMkQzTVZZJd"
      },
      "execution_count": null,
      "outputs": []
    }
  ]
}